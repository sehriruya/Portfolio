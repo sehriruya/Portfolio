{
 "cells": [
  {
   "cell_type": "code",
   "execution_count": null,
   "metadata": {},
   "outputs": [],
   "source": [
    "import sys\n",
    "!{sys.executable} -m pip install google-play-scraper\n",
    "!{sys.executable} -m pip install app_store_scraper\n"
   ]
  },
  {
   "cell_type": "code",
   "execution_count": 2,
   "metadata": {},
   "outputs": [],
   "source": [
    "from app_store_scraper import AppStore\n",
    "import pandas as pd\n",
    "import numpy as np\n",
    "import json\n",
    "import datetime"
   ]
  },
  {
   "cell_type": "code",
   "execution_count": null,
   "metadata": {},
   "outputs": [],
   "source": [
    "betterhelp_appstore = AppStore(country='us', app_name='betterhelp-therapy', app_id = '995252384')\n",
    "betterhelp_appstore.review(after= datetime.datetime(2021, 12, 31)) #retrieve most recent reviews from beginning of 2022\n",
    "display(betterhelp_appstore[:5])"
   ]
  },
  {
   "cell_type": "code",
   "execution_count": 4,
   "metadata": {},
   "outputs": [
    {
     "data": {
      "text/html": [
       "<div>\n",
       "<style scoped>\n",
       "    .dataframe tbody tr th:only-of-type {\n",
       "        vertical-align: middle;\n",
       "    }\n",
       "\n",
       "    .dataframe tbody tr th {\n",
       "        vertical-align: top;\n",
       "    }\n",
       "\n",
       "    .dataframe thead th {\n",
       "        text-align: right;\n",
       "    }\n",
       "</style>\n",
       "<table border=\"1\" class=\"dataframe\">\n",
       "  <thead>\n",
       "    <tr style=\"text-align: right;\">\n",
       "      <th></th>\n",
       "      <th>review</th>\n",
       "      <th>userName</th>\n",
       "      <th>rating</th>\n",
       "      <th>date</th>\n",
       "      <th>title</th>\n",
       "      <th>isEdited</th>\n",
       "      <th>developerResponse</th>\n",
       "    </tr>\n",
       "  </thead>\n",
       "  <tbody>\n",
       "    <tr>\n",
       "      <th>0</th>\n",
       "      <td>I did a lot of research before signing up for ...</td>\n",
       "      <td>rileymax07</td>\n",
       "      <td>5</td>\n",
       "      <td>2022-01-25 21:57:32</td>\n",
       "      <td>Better Help Talk Therapy</td>\n",
       "      <td>False</td>\n",
       "      <td>NaN</td>\n",
       "    </tr>\n",
       "    <tr>\n",
       "      <th>1</th>\n",
       "      <td>I don’t know if I just got one crazy outlier o...</td>\n",
       "      <td>U tubers</td>\n",
       "      <td>1</td>\n",
       "      <td>2022-01-21 09:50:12</td>\n",
       "      <td>Pricey for low quality care</td>\n",
       "      <td>False</td>\n",
       "      <td>NaN</td>\n",
       "    </tr>\n",
       "    <tr>\n",
       "      <th>2</th>\n",
       "      <td>Only been using it for about two going in thre...</td>\n",
       "      <td>Lexxapeal</td>\n",
       "      <td>5</td>\n",
       "      <td>2022-03-27 15:12:19</td>\n",
       "      <td>Great service so far!</td>\n",
       "      <td>False</td>\n",
       "      <td>NaN</td>\n",
       "    </tr>\n",
       "    <tr>\n",
       "      <th>3</th>\n",
       "      <td>So far I have benefited from this app. My ther...</td>\n",
       "      <td>chubiecheeksrs</td>\n",
       "      <td>5</td>\n",
       "      <td>2022-02-01 00:11:12</td>\n",
       "      <td>One week and going</td>\n",
       "      <td>False</td>\n",
       "      <td>NaN</td>\n",
       "    </tr>\n",
       "    <tr>\n",
       "      <th>4</th>\n",
       "      <td>BetterHelp overall is great but I had a horrib...</td>\n",
       "      <td>Stephienic</td>\n",
       "      <td>3</td>\n",
       "      <td>2022-04-10 01:21:53</td>\n",
       "      <td>Bad experience with therapist.</td>\n",
       "      <td>False</td>\n",
       "      <td>NaN</td>\n",
       "    </tr>\n",
       "  </tbody>\n",
       "</table>\n",
       "</div>"
      ],
      "text/plain": [
       "                                              review        userName  rating  \\\n",
       "0  I did a lot of research before signing up for ...      rileymax07       5   \n",
       "1  I don’t know if I just got one crazy outlier o...        U tubers       1   \n",
       "2  Only been using it for about two going in thre...       Lexxapeal       5   \n",
       "3  So far I have benefited from this app. My ther...  chubiecheeksrs       5   \n",
       "4  BetterHelp overall is great but I had a horrib...      Stephienic       3   \n",
       "\n",
       "                 date                           title  isEdited  \\\n",
       "0 2022-01-25 21:57:32        Better Help Talk Therapy     False   \n",
       "1 2022-01-21 09:50:12     Pricey for low quality care     False   \n",
       "2 2022-03-27 15:12:19           Great service so far!     False   \n",
       "3 2022-02-01 00:11:12              One week and going     False   \n",
       "4 2022-04-10 01:21:53  Bad experience with therapist.     False   \n",
       "\n",
       "  developerResponse  \n",
       "0               NaN  \n",
       "1               NaN  \n",
       "2               NaN  \n",
       "3               NaN  \n",
       "4               NaN  "
      ]
     },
     "metadata": {},
     "output_type": "display_data"
    }
   ],
   "source": [
    "betterhelp_appstore = pd.DataFrame(betterhelp_appstore.reviews)\n",
    "betterhelp_appstore.columns\n",
    "keep_col = ['rating','review','date']\n",
    "betterhelp_appstore = betterhelp_appstore[keep_col]\n",
    "betterhelp_appstore = betterhelp_appstore.sort_values(by = 'date')\n",
    "display(betterhelp_appstore[:5])"
   ]
  },
  {
   "cell_type": "code",
   "execution_count": 5,
   "metadata": {},
   "outputs": [],
   "source": [
    "from google_play_scraper import Sort, reviews_all\n",
    "betterhelp_googleplay = reviews_all('com.betterhelp', Sort.NEWEST)\n"
   ]
  },
  {
   "cell_type": "code",
   "execution_count": 6,
   "metadata": {},
   "outputs": [
    {
     "data": {
      "text/html": [
       "<div>\n",
       "<style scoped>\n",
       "    .dataframe tbody tr th:only-of-type {\n",
       "        vertical-align: middle;\n",
       "    }\n",
       "\n",
       "    .dataframe tbody tr th {\n",
       "        vertical-align: top;\n",
       "    }\n",
       "\n",
       "    .dataframe thead th {\n",
       "        text-align: right;\n",
       "    }\n",
       "</style>\n",
       "<table border=\"1\" class=\"dataframe\">\n",
       "  <thead>\n",
       "    <tr style=\"text-align: right;\">\n",
       "      <th></th>\n",
       "      <th>score</th>\n",
       "      <th>content</th>\n",
       "      <th>at</th>\n",
       "    </tr>\n",
       "  </thead>\n",
       "  <tbody>\n",
       "    <tr>\n",
       "      <th>401</th>\n",
       "      <td>5</td>\n",
       "      <td>Better Help not only has great therapist but t...</td>\n",
       "      <td>2021-12-31 09:12:57</td>\n",
       "    </tr>\n",
       "    <tr>\n",
       "      <th>400</th>\n",
       "      <td>1</td>\n",
       "      <td>It's not really free. So people with no money ...</td>\n",
       "      <td>2022-01-01 20:14:57</td>\n",
       "    </tr>\n",
       "    <tr>\n",
       "      <th>399</th>\n",
       "      <td>1</td>\n",
       "      <td>I badly need a therapist but I can't get one s...</td>\n",
       "      <td>2022-01-01 22:55:56</td>\n",
       "    </tr>\n",
       "    <tr>\n",
       "      <th>398</th>\n",
       "      <td>3</td>\n",
       "      <td>Joker joker joker</td>\n",
       "      <td>2022-01-03 06:36:33</td>\n",
       "    </tr>\n",
       "    <tr>\n",
       "      <th>397</th>\n",
       "      <td>5</td>\n",
       "      <td>my therapist is caring, and I'm very thankful ...</td>\n",
       "      <td>2022-01-03 10:07:20</td>\n",
       "    </tr>\n",
       "  </tbody>\n",
       "</table>\n",
       "</div>"
      ],
      "text/plain": [
       "     score                                            content  \\\n",
       "401      5  Better Help not only has great therapist but t...   \n",
       "400      1  It's not really free. So people with no money ...   \n",
       "399      1  I badly need a therapist but I can't get one s...   \n",
       "398      3                                  Joker joker joker   \n",
       "397      5  my therapist is caring, and I'm very thankful ...   \n",
       "\n",
       "                     at  \n",
       "401 2021-12-31 09:12:57  \n",
       "400 2022-01-01 20:14:57  \n",
       "399 2022-01-01 22:55:56  \n",
       "398 2022-01-03 06:36:33  \n",
       "397 2022-01-03 10:07:20  "
      ]
     },
     "metadata": {},
     "output_type": "display_data"
    }
   ],
   "source": [
    "betterhelp_googleplay = pd.DataFrame.from_dict(betterhelp_googleplay, orient='columns')\n",
    "betterhelp_googleplay = betterhelp_googleplay[betterhelp_googleplay['at'] > '2021-12-31'] #retrieve comments starting from 2022\n",
    "keep_col = ['score','content','at']\n",
    "betterhelp_googleplay = betterhelp_googleplay[keep_col]\n",
    "betterhelp_googleplay = betterhelp_googleplay.sort_values(by = 'at')\n",
    "display(betterhelp_googleplay[:5])"
   ]
  },
  {
   "cell_type": "code",
   "execution_count": null,
   "metadata": {},
   "outputs": [],
   "source": []
  }
 ],
 "metadata": {
  "interpreter": {
   "hash": "31f2aee4e71d21fbe5cf8b01ff0e069b9275f58929596ceb00d14d90e3e16cd6"
  },
  "kernelspec": {
   "display_name": "Python 3.8.2 64-bit",
   "language": "python",
   "name": "python3"
  },
  "language_info": {
   "codemirror_mode": {
    "name": "ipython",
    "version": 3
   },
   "file_extension": ".py",
   "mimetype": "text/x-python",
   "name": "python",
   "nbconvert_exporter": "python",
   "pygments_lexer": "ipython3",
   "version": "3.8.1"
  },
  "orig_nbformat": 4
 },
 "nbformat": 4,
 "nbformat_minor": 2
}
